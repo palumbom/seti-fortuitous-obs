{
 "cells": [
  {
   "cell_type": "code",
   "execution_count": 1,
   "id": "81c58867-bb39-410b-8473-1ba80ff93c3f",
   "metadata": {},
   "outputs": [],
   "source": [
    "# imports\n",
    "import numpy as np\n",
    "import pandas as pd\n",
    "import os, sys, pdb, pytz\n",
    "import matplotlib.pyplot as plt\n",
    "%matplotlib inline\n",
    "\n",
    "# astropy \n",
    "import astropy.units as u\n",
    "from astropy.time import Time\n",
    "from astropy.table import QTable\n",
    "import astropy.coordinates as coord\n",
    "from astropy.coordinates import SkyCoord"
   ]
  },
  {
   "cell_type": "code",
   "execution_count": 41,
   "id": "9a6ccc2f-6dbb-4b58-b125-c913fe81efbe",
   "metadata": {},
   "outputs": [],
   "source": [
    "# GBT information \n",
    "beamLabel = [\"L\",\"S\",\"C\",\"X\"]\n",
    "upp = [1.73, 2.60, 7.8, 11.6]\n",
    "low = [1.15, 1.73, 3.95, 7.8]\n",
    "beams = [12.6/x for x in upp]\n",
    "beamdeg =[x/60.0 for x in beams]\n",
    "beamDict = dict(zip(beamLabel, beamdeg))\n",
    "freqDict = dict(zip(beamLabel, upp))"
   ]
  },
  {
   "cell_type": "code",
   "execution_count": 2,
   "id": "dc6376b5-ea4b-43d9-bbf1-ac10296f5af3",
   "metadata": {},
   "outputs": [
    {
     "name": "stdout",
     "output_type": "stream",
     "text": [
      "Data directory: /Users/michael/Desktop/seti-fortuitous-obs/data/\n"
     ]
    }
   ],
   "source": [
    "# set the data directory\n",
    "datdir = os.path.realpath('__file__' + \"/../data/\") + \"/\"\n",
    "if not os.path.isdir(datdir):\n",
    "    os.mkdir(datdir)\n",
    "print(\"Data directory: \" + datdir)"
   ]
  },
  {
   "cell_type": "code",
   "execution_count": 3,
   "id": "6854c2d2-9faa-46d1-bc1e-f1c0d8052bc7",
   "metadata": {},
   "outputs": [],
   "source": [
    "# download the data if they aren't already there\n",
    "datfile = datdir + \"fortuitous.csv\"\n",
    "if not os.path.isfile(datfile):\n",
    "    print(\"derp\")"
   ]
  },
  {
   "cell_type": "code",
   "execution_count": 4,
   "id": "2558e161-26bf-4a31-9bbf-d97930040b0f",
   "metadata": {},
   "outputs": [],
   "source": [
    "# read the data\n",
    "df = pd.read_csv(datfile)"
   ]
  },
  {
   "cell_type": "code",
   "execution_count": 5,
   "id": "0045a0bf-1ce6-4bc4-8f51-758e5210b96b",
   "metadata": {},
   "outputs": [],
   "source": [
    "# function to fix the arrays that were written as strings\n",
    "def string_to_array(string_data):\n",
    "    cleaned_data = string_data.strip('[]\\n').split()\n",
    "    return np.array([float(value) for value in cleaned_data])"
   ]
  },
  {
   "cell_type": "code",
   "execution_count": 6,
   "id": "36183515-1a61-4413-972d-2498e6a1237d",
   "metadata": {},
   "outputs": [],
   "source": [
    "# set names of columns to fix\n",
    "cols_to_fix = ['ra_trans', 'dec_trans', 'sep_trans', \\\n",
    "               'maxdrift_trans', 'ra_rec', 'dec_rec', \\\n",
    "               'sep_rec', 'maxdrift_rec']"
   ]
  },
  {
   "cell_type": "code",
   "execution_count": 7,
   "id": "a679ac7c-ed79-4d84-bc77-deb2cff619dc",
   "metadata": {},
   "outputs": [
    {
     "name": "stderr",
     "output_type": "stream",
     "text": [
      "/usr/local/anaconda3/envs/seti/lib/python3.6/site-packages/ipykernel_launcher.py:4: SettingWithCopyWarning: \n",
      "A value is trying to be set on a copy of a slice from a DataFrame\n",
      "\n",
      "See the caveats in the documentation: https://pandas.pydata.org/pandas-docs/stable/user_guide/indexing.html#returning-a-view-versus-a-copy\n",
      "  after removing the cwd from sys.path.\n"
     ]
    }
   ],
   "source": [
    "# turn long strings back into arrays\n",
    "for col_name in cols_to_fix:\n",
    "    for i in range(len(df)):\n",
    "        df[col_name][i] = string_to_array(df.loc[i,col_name])"
   ]
  },
  {
   "cell_type": "code",
   "execution_count": 30,
   "id": "dd5e41ea-d67f-473a-a25e-ecae04306db7",
   "metadata": {},
   "outputs": [],
   "source": [
    "def format_dec_string(coord):\n",
    "    fs = 1\n",
    "    if coord < 0:\n",
    "        fs = -1\n",
    "        coord = abs(coord)\n",
    "    qS = '\"'\n",
    "    return f\"{int(fs*float(int(coord)))}$^\\circ$ {int((coord - float(int(coord))) // (1/60))}' {np.around((coord - float(int(coord)) - ((coord - float(int(coord))) // (1/60))*(1/60))/(1/(60*60)),3)}{qS} \"\n",
    "\n",
    "def format_ra_string(coord):\n",
    "    return f\"{int(coord // 15)}h {int((coord - (coord // 15)*15) // 0.25)}m {np.around((coord - (coord // 15)*15 - ((coord - (coord // 15)*15) // 0.25)*0.25)/(360/(24*60*60)),3)}s\""
   ]
  },
  {
   "cell_type": "code",
   "execution_count": 60,
   "id": "637ad52c-7766-4d37-a607-d3f78796da72",
   "metadata": {},
   "outputs": [],
   "source": [
    "# define function to plot focal lines on sky\n",
    "def plot_probe_focal_lines(i):\n",
    "    ra_trans = df.iloc[i].ra_trans\n",
    "    dec_trans = df.iloc[i].dec_trans\n",
    "\n",
    "    ra_rec = df.iloc[i].ra_rec\n",
    "    dec_rec = df.iloc[i].dec_rec\n",
    "\n",
    "    ra_obs = df.iloc[i].ra_obs\n",
    "    dec_obs = df.iloc[i].dec_obs\n",
    "    band = df.iloc[i].obs_band\n",
    "\n",
    "    # make plot objects\n",
    "    fig = plt.figure()\n",
    "    axs = fig.add_subplot(1, 1, 1)\n",
    "\n",
    "    # plot focal lines for transmitter and receiver\n",
    "    axs.plot(ra_trans, dec_trans, color=\"tab:blue\", label=\"Transmitter\")\n",
    "    axs.plot(ra_rec, dec_rec, color=\"tab:orange\", label=\"Receiver\")\n",
    "\n",
    "    # plot the size of the band\n",
    "    circ = plt.Circle((ra_obs, dec_obs), beamDict[band]/2.0, color='k', fill=False)\n",
    "    axs.add_patch(circ)\n",
    "\n",
    "    # inver the RA axis\n",
    "    axs.invert_xaxis()\n",
    "\n",
    "    # format the tick marks\n",
    "    axs.set_xticklabels(map(format_ra_string, axs.get_xticks()), rotation=45)\n",
    "    axs.set_yticklabels(map(format_dec_string, axs.get_yticks()))\n",
    "\n",
    "    # set the axis labels\n",
    "    axs.set_xlabel(\"Right Ascension\")\n",
    "    axs.set_ylabel(\"Declination\")\n",
    "\n",
    "    axs.set_aspect(\"equal\")\n",
    "    axs.grid(ls=\"--\", alpha=0.5)\n",
    "    axs.legend()\n",
    "    plt.show()"
   ]
  },
  {
   "cell_type": "code",
   "execution_count": 70,
   "id": "e11bb768-d122-49ee-89fd-c40c59004d16",
   "metadata": {},
   "outputs": [
    {
     "name": "stderr",
     "output_type": "stream",
     "text": [
      "/usr/local/anaconda3/envs/seti/lib/python3.6/site-packages/ipykernel_launcher.py:29: UserWarning: FixedFormatter should only be used together with FixedLocator\n",
      "/usr/local/anaconda3/envs/seti/lib/python3.6/site-packages/ipykernel_launcher.py:30: UserWarning: FixedFormatter should only be used together with FixedLocator\n"
     ]
    },
    {
     "data": {
      "image/png": "[encoded data removed]",
      "text/plain": [
       "<Figure size 432x288 with 1 Axes>"
      ]
     },
     "metadata": {
      "needs_background": "light"
     },
     "output_type": "display_data"
    }
   ],
   "source": [
    "plot_probe_focal_lines(1)"
   ]
  }
 ],
 "metadata": {
  "kernelspec": {
   "display_name": "Python 3",
   "language": "python",
   "name": "python3"
  },
  "language_info": {
   "codemirror_mode": {
    "name": "ipython",
    "version": 3
   },
   "file_extension": ".py",
   "mimetype": "text/x-python",
   "name": "python",
   "nbconvert_exporter": "python",
   "pygments_lexer": "ipython3",
   "version": "3.6.13"
  }
 },
 "nbformat": 4,
 "nbformat_minor": 5
}
